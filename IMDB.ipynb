{
 "cells": [
  {
   "cell_type": "code",
   "execution_count": 1,
   "metadata": {
    "collapsed": false
   },
   "outputs": [],
   "source": [
    "# IMDB\n",
    "\n",
    "import requests\n",
    "from bs4 import BeautifulSoup\n",
    "import json\n",
    "from selenium import webdriver\n",
    "from selenium.webdriver.common.keys import Keys\n",
    "import time\n",
    "import timeit\n",
    "import numpy as np\n",
    "import pandas as pd\n",
    "import csv"
   ]
  },
  {
   "cell_type": "code",
   "execution_count": 2,
   "metadata": {
    "collapsed": false
   },
   "outputs": [],
   "source": [
    "element = []\n",
    "\n",
    "def fetch_review(*page):\n",
    "\n",
    "    url = 'http://www.imdb.com/title/tt1392170/reviews?start='\n",
    "    \n",
    "    for i in page:\n",
    "\n",
    "        try:\n",
    "            # replace 'path' with the location of your webdriver,
    "            driver = webdriver.Chrome('path/chromedriver')\n",
    "            driver.get(url+str(i))\n",
    "            time.sleep(1)\n",
    "            parent = driver.find_elements_by_css_selector(\"div[id='tn15content'] > p\")\n",
    "            element.append([i.text for i in parent])\n",
    "            driver.quit()\n",
    "            \n",
    "\n",
    "        except Exception, e:\n",
    "            driver.quit()\n",
    "            print e #print the error message, so that we know what was wrong.\n",
    "            element.append('Need Inspect')\n",
    "            pass   \n",
    "    \n",
    "    return(element)  "
   ]
  },
  {
   "cell_type": "code",
   "execution_count": null,
   "metadata": {
    "collapsed": false
   },
   "outputs": [],
   "source": [
    "result = []\n",
    "number = range(0, 1960, 10)\n",
    "result = fetch_review(*number)"
   ]
  },
  {
   "cell_type": "code",
   "execution_count": null,
   "metadata": {
    "collapsed": false
   },
   "outputs": [],
   "source": [
    "data = pd.DataFrame(result)\n",
    "data = data.drop(10,axis=1)\n",
    "review = data.stack().reset_index(drop=True)\n",
    "review = pd.DataFrame({'ID':review.index, 'review':review.values})\n",
    "review.to_csv('review.csv',encoding='utf-8',index=False)"
   ]
  },
  {
   "cell_type": "code",
   "execution_count": null,
   "metadata": {
    "collapsed": false
   },
   "outputs": [],
   "source": []
  }
 ],
 "metadata": {
  "kernelspec": {
   "display_name": "Python 2",
   "language": "python",
   "name": "python2"
  },
  "language_info": {
   "codemirror_mode": {
    "name": "ipython",
    "version": 2
   },
   "file_extension": ".py",
   "mimetype": "text/x-python",
   "name": "python",
   "nbconvert_exporter": "python",
   "pygments_lexer": "ipython2",
   "version": "2.7.11"
  }
 },
 "nbformat": 4,
 "nbformat_minor": 0
}
